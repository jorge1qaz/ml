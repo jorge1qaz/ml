{
 "cells": [
  {
   "cell_type": "code",
   "execution_count": 1,
   "metadata": {},
   "outputs": [],
   "source": [
    "import numpy as np\n",
    "import pandas as pd "
   ]
  },
  {
   "cell_type": "code",
   "execution_count": 2,
   "metadata": {},
   "outputs": [],
   "source": [
    "import matplotlib.pyplot as plt\n",
    "import seaborn as sns\n",
    "%matplotlib inline "
   ]
  },
  {
   "cell_type": "code",
   "execution_count": 3,
   "metadata": {},
   "outputs": [],
   "source": [
    "df = pd.read_csv('fifa_cleaned.csv')"
   ]
  },
  {
   "cell_type": "code",
   "execution_count": 4,
   "metadata": {},
   "outputs": [
    {
     "data": {
      "text/html": [
       "<div>\n",
       "<style scoped>\n",
       "    .dataframe tbody tr th:only-of-type {\n",
       "        vertical-align: middle;\n",
       "    }\n",
       "\n",
       "    .dataframe tbody tr th {\n",
       "        vertical-align: top;\n",
       "    }\n",
       "\n",
       "    .dataframe thead th {\n",
       "        text-align: right;\n",
       "    }\n",
       "</style>\n",
       "<table border=\"1\" class=\"dataframe\">\n",
       "  <thead>\n",
       "    <tr style=\"text-align: right;\">\n",
       "      <th></th>\n",
       "      <th>id</th>\n",
       "      <th>age</th>\n",
       "      <th>height_cm</th>\n",
       "      <th>weight_kgs</th>\n",
       "      <th>overall_rating</th>\n",
       "      <th>potential</th>\n",
       "      <th>value_euro</th>\n",
       "      <th>wage_euro</th>\n",
       "      <th>international_reputation(1-5)</th>\n",
       "      <th>weak_foot(1-5)</th>\n",
       "      <th>...</th>\n",
       "      <th>penalties</th>\n",
       "      <th>composure</th>\n",
       "      <th>marking</th>\n",
       "      <th>standing_tackle</th>\n",
       "      <th>sliding_tackle</th>\n",
       "      <th>GK_diving</th>\n",
       "      <th>GK_handling</th>\n",
       "      <th>GK_kicking</th>\n",
       "      <th>GK_positioning</th>\n",
       "      <th>GK_reflexes</th>\n",
       "    </tr>\n",
       "  </thead>\n",
       "  <tbody>\n",
       "    <tr>\n",
       "      <th>count</th>\n",
       "      <td>17954.000000</td>\n",
       "      <td>17954.000000</td>\n",
       "      <td>17954.000000</td>\n",
       "      <td>17954.000000</td>\n",
       "      <td>17954.000000</td>\n",
       "      <td>17954.000000</td>\n",
       "      <td>1.769900e+04</td>\n",
       "      <td>17708.000000</td>\n",
       "      <td>17954.000000</td>\n",
       "      <td>17954.000000</td>\n",
       "      <td>...</td>\n",
       "      <td>17954.000000</td>\n",
       "      <td>17954.000000</td>\n",
       "      <td>17954.000000</td>\n",
       "      <td>17954.000000</td>\n",
       "      <td>17954.000000</td>\n",
       "      <td>17954.000000</td>\n",
       "      <td>17954.000000</td>\n",
       "      <td>17954.000000</td>\n",
       "      <td>17954.000000</td>\n",
       "      <td>17954.000000</td>\n",
       "    </tr>\n",
       "    <tr>\n",
       "      <th>mean</th>\n",
       "      <td>215411.087780</td>\n",
       "      <td>25.565445</td>\n",
       "      <td>174.946921</td>\n",
       "      <td>75.301047</td>\n",
       "      <td>66.240169</td>\n",
       "      <td>71.430935</td>\n",
       "      <td>2.479280e+06</td>\n",
       "      <td>9902.134628</td>\n",
       "      <td>1.111674</td>\n",
       "      <td>2.945695</td>\n",
       "      <td>...</td>\n",
       "      <td>48.357302</td>\n",
       "      <td>58.680183</td>\n",
       "      <td>47.162861</td>\n",
       "      <td>47.733040</td>\n",
       "      <td>45.705915</td>\n",
       "      <td>16.784449</td>\n",
       "      <td>16.556199</td>\n",
       "      <td>16.388660</td>\n",
       "      <td>16.541049</td>\n",
       "      <td>16.874067</td>\n",
       "    </tr>\n",
       "    <tr>\n",
       "      <th>std</th>\n",
       "      <td>29758.387106</td>\n",
       "      <td>4.705708</td>\n",
       "      <td>14.029449</td>\n",
       "      <td>7.083684</td>\n",
       "      <td>6.963730</td>\n",
       "      <td>6.131339</td>\n",
       "      <td>5.687014e+06</td>\n",
       "      <td>21995.593750</td>\n",
       "      <td>0.392168</td>\n",
       "      <td>0.663691</td>\n",
       "      <td>...</td>\n",
       "      <td>15.810844</td>\n",
       "      <td>11.625541</td>\n",
       "      <td>20.037346</td>\n",
       "      <td>21.674973</td>\n",
       "      <td>21.285812</td>\n",
       "      <td>17.893895</td>\n",
       "      <td>17.108234</td>\n",
       "      <td>16.701447</td>\n",
       "      <td>17.231495</td>\n",
       "      <td>18.182943</td>\n",
       "    </tr>\n",
       "    <tr>\n",
       "      <th>min</th>\n",
       "      <td>16.000000</td>\n",
       "      <td>17.000000</td>\n",
       "      <td>152.400000</td>\n",
       "      <td>49.900000</td>\n",
       "      <td>47.000000</td>\n",
       "      <td>48.000000</td>\n",
       "      <td>1.000000e+04</td>\n",
       "      <td>1000.000000</td>\n",
       "      <td>1.000000</td>\n",
       "      <td>1.000000</td>\n",
       "      <td>...</td>\n",
       "      <td>5.000000</td>\n",
       "      <td>12.000000</td>\n",
       "      <td>3.000000</td>\n",
       "      <td>2.000000</td>\n",
       "      <td>3.000000</td>\n",
       "      <td>1.000000</td>\n",
       "      <td>1.000000</td>\n",
       "      <td>1.000000</td>\n",
       "      <td>1.000000</td>\n",
       "      <td>1.000000</td>\n",
       "    </tr>\n",
       "    <tr>\n",
       "      <th>25%</th>\n",
       "      <td>201117.250000</td>\n",
       "      <td>22.000000</td>\n",
       "      <td>154.940000</td>\n",
       "      <td>69.900000</td>\n",
       "      <td>62.000000</td>\n",
       "      <td>67.000000</td>\n",
       "      <td>3.250000e+05</td>\n",
       "      <td>1000.000000</td>\n",
       "      <td>1.000000</td>\n",
       "      <td>3.000000</td>\n",
       "      <td>...</td>\n",
       "      <td>38.000000</td>\n",
       "      <td>51.000000</td>\n",
       "      <td>30.000000</td>\n",
       "      <td>27.000000</td>\n",
       "      <td>24.000000</td>\n",
       "      <td>8.000000</td>\n",
       "      <td>8.000000</td>\n",
       "      <td>8.000000</td>\n",
       "      <td>8.000000</td>\n",
       "      <td>8.000000</td>\n",
       "    </tr>\n",
       "    <tr>\n",
       "      <th>50%</th>\n",
       "      <td>222919.000000</td>\n",
       "      <td>25.000000</td>\n",
       "      <td>175.260000</td>\n",
       "      <td>74.800000</td>\n",
       "      <td>66.000000</td>\n",
       "      <td>71.000000</td>\n",
       "      <td>7.000000e+05</td>\n",
       "      <td>3000.000000</td>\n",
       "      <td>1.000000</td>\n",
       "      <td>3.000000</td>\n",
       "      <td>...</td>\n",
       "      <td>49.000000</td>\n",
       "      <td>60.000000</td>\n",
       "      <td>52.500000</td>\n",
       "      <td>55.000000</td>\n",
       "      <td>52.000000</td>\n",
       "      <td>11.000000</td>\n",
       "      <td>11.000000</td>\n",
       "      <td>11.000000</td>\n",
       "      <td>11.000000</td>\n",
       "      <td>11.000000</td>\n",
       "    </tr>\n",
       "    <tr>\n",
       "      <th>75%</th>\n",
       "      <td>237613.500000</td>\n",
       "      <td>29.000000</td>\n",
       "      <td>185.420000</td>\n",
       "      <td>79.800000</td>\n",
       "      <td>71.000000</td>\n",
       "      <td>75.000000</td>\n",
       "      <td>2.100000e+06</td>\n",
       "      <td>9000.000000</td>\n",
       "      <td>1.000000</td>\n",
       "      <td>3.000000</td>\n",
       "      <td>...</td>\n",
       "      <td>60.000000</td>\n",
       "      <td>67.000000</td>\n",
       "      <td>64.000000</td>\n",
       "      <td>66.000000</td>\n",
       "      <td>64.000000</td>\n",
       "      <td>14.000000</td>\n",
       "      <td>14.000000</td>\n",
       "      <td>14.000000</td>\n",
       "      <td>14.000000</td>\n",
       "      <td>14.000000</td>\n",
       "    </tr>\n",
       "    <tr>\n",
       "      <th>max</th>\n",
       "      <td>247607.000000</td>\n",
       "      <td>46.000000</td>\n",
       "      <td>205.740000</td>\n",
       "      <td>110.200000</td>\n",
       "      <td>94.000000</td>\n",
       "      <td>95.000000</td>\n",
       "      <td>1.105000e+08</td>\n",
       "      <td>565000.000000</td>\n",
       "      <td>5.000000</td>\n",
       "      <td>5.000000</td>\n",
       "      <td>...</td>\n",
       "      <td>92.000000</td>\n",
       "      <td>96.000000</td>\n",
       "      <td>94.000000</td>\n",
       "      <td>93.000000</td>\n",
       "      <td>90.000000</td>\n",
       "      <td>90.000000</td>\n",
       "      <td>92.000000</td>\n",
       "      <td>92.000000</td>\n",
       "      <td>90.000000</td>\n",
       "      <td>94.000000</td>\n",
       "    </tr>\n",
       "  </tbody>\n",
       "</table>\n",
       "<p>8 rows × 50 columns</p>\n",
       "</div>"
      ],
      "text/plain": [
       "                  id           age     height_cm    weight_kgs  \\\n",
       "count   17954.000000  17954.000000  17954.000000  17954.000000   \n",
       "mean   215411.087780     25.565445    174.946921     75.301047   \n",
       "std     29758.387106      4.705708     14.029449      7.083684   \n",
       "min        16.000000     17.000000    152.400000     49.900000   \n",
       "25%    201117.250000     22.000000    154.940000     69.900000   \n",
       "50%    222919.000000     25.000000    175.260000     74.800000   \n",
       "75%    237613.500000     29.000000    185.420000     79.800000   \n",
       "max    247607.000000     46.000000    205.740000    110.200000   \n",
       "\n",
       "       overall_rating     potential    value_euro      wage_euro  \\\n",
       "count    17954.000000  17954.000000  1.769900e+04   17708.000000   \n",
       "mean        66.240169     71.430935  2.479280e+06    9902.134628   \n",
       "std          6.963730      6.131339  5.687014e+06   21995.593750   \n",
       "min         47.000000     48.000000  1.000000e+04    1000.000000   \n",
       "25%         62.000000     67.000000  3.250000e+05    1000.000000   \n",
       "50%         66.000000     71.000000  7.000000e+05    3000.000000   \n",
       "75%         71.000000     75.000000  2.100000e+06    9000.000000   \n",
       "max         94.000000     95.000000  1.105000e+08  565000.000000   \n",
       "\n",
       "       international_reputation(1-5)  weak_foot(1-5)  ...     penalties  \\\n",
       "count                   17954.000000    17954.000000  ...  17954.000000   \n",
       "mean                        1.111674        2.945695  ...     48.357302   \n",
       "std                         0.392168        0.663691  ...     15.810844   \n",
       "min                         1.000000        1.000000  ...      5.000000   \n",
       "25%                         1.000000        3.000000  ...     38.000000   \n",
       "50%                         1.000000        3.000000  ...     49.000000   \n",
       "75%                         1.000000        3.000000  ...     60.000000   \n",
       "max                         5.000000        5.000000  ...     92.000000   \n",
       "\n",
       "          composure       marking  standing_tackle  sliding_tackle  \\\n",
       "count  17954.000000  17954.000000     17954.000000    17954.000000   \n",
       "mean      58.680183     47.162861        47.733040       45.705915   \n",
       "std       11.625541     20.037346        21.674973       21.285812   \n",
       "min       12.000000      3.000000         2.000000        3.000000   \n",
       "25%       51.000000     30.000000        27.000000       24.000000   \n",
       "50%       60.000000     52.500000        55.000000       52.000000   \n",
       "75%       67.000000     64.000000        66.000000       64.000000   \n",
       "max       96.000000     94.000000        93.000000       90.000000   \n",
       "\n",
       "          GK_diving   GK_handling    GK_kicking  GK_positioning   GK_reflexes  \n",
       "count  17954.000000  17954.000000  17954.000000    17954.000000  17954.000000  \n",
       "mean      16.784449     16.556199     16.388660       16.541049     16.874067  \n",
       "std       17.893895     17.108234     16.701447       17.231495     18.182943  \n",
       "min        1.000000      1.000000      1.000000        1.000000      1.000000  \n",
       "25%        8.000000      8.000000      8.000000        8.000000      8.000000  \n",
       "50%       11.000000     11.000000     11.000000       11.000000     11.000000  \n",
       "75%       14.000000     14.000000     14.000000       14.000000     14.000000  \n",
       "max       90.000000     92.000000     92.000000       90.000000     94.000000  \n",
       "\n",
       "[8 rows x 50 columns]"
      ]
     },
     "execution_count": 4,
     "metadata": {},
     "output_type": "execute_result"
    }
   ],
   "source": [
    "df.describe()"
   ]
  },
  {
   "cell_type": "code",
   "execution_count": 5,
   "metadata": {},
   "outputs": [
    {
     "data": {
      "text/html": [
       "<div>\n",
       "<style scoped>\n",
       "    .dataframe tbody tr th:only-of-type {\n",
       "        vertical-align: middle;\n",
       "    }\n",
       "\n",
       "    .dataframe tbody tr th {\n",
       "        vertical-align: top;\n",
       "    }\n",
       "\n",
       "    .dataframe thead th {\n",
       "        text-align: right;\n",
       "    }\n",
       "</style>\n",
       "<table border=\"1\" class=\"dataframe\">\n",
       "  <thead>\n",
       "    <tr style=\"text-align: right;\">\n",
       "      <th></th>\n",
       "      <th>age</th>\n",
       "      <th>overall_rating</th>\n",
       "      <th>potential</th>\n",
       "      <th>international_reputation(1-5)</th>\n",
       "      <th>value_euro</th>\n",
       "    </tr>\n",
       "  </thead>\n",
       "  <tbody>\n",
       "    <tr>\n",
       "      <th>0</th>\n",
       "      <td>31</td>\n",
       "      <td>94</td>\n",
       "      <td>94</td>\n",
       "      <td>5</td>\n",
       "      <td>110500000.0</td>\n",
       "    </tr>\n",
       "    <tr>\n",
       "      <th>1</th>\n",
       "      <td>27</td>\n",
       "      <td>88</td>\n",
       "      <td>89</td>\n",
       "      <td>3</td>\n",
       "      <td>69500000.0</td>\n",
       "    </tr>\n",
       "    <tr>\n",
       "      <th>2</th>\n",
       "      <td>25</td>\n",
       "      <td>88</td>\n",
       "      <td>91</td>\n",
       "      <td>4</td>\n",
       "      <td>73000000.0</td>\n",
       "    </tr>\n",
       "    <tr>\n",
       "      <th>3</th>\n",
       "      <td>27</td>\n",
       "      <td>88</td>\n",
       "      <td>88</td>\n",
       "      <td>3</td>\n",
       "      <td>62000000.0</td>\n",
       "    </tr>\n",
       "    <tr>\n",
       "      <th>4</th>\n",
       "      <td>27</td>\n",
       "      <td>88</td>\n",
       "      <td>91</td>\n",
       "      <td>3</td>\n",
       "      <td>60000000.0</td>\n",
       "    </tr>\n",
       "    <tr>\n",
       "      <th>...</th>\n",
       "      <td>...</td>\n",
       "      <td>...</td>\n",
       "      <td>...</td>\n",
       "      <td>...</td>\n",
       "      <td>...</td>\n",
       "    </tr>\n",
       "    <tr>\n",
       "      <th>17949</th>\n",
       "      <td>25</td>\n",
       "      <td>67</td>\n",
       "      <td>70</td>\n",
       "      <td>1</td>\n",
       "      <td>975000.0</td>\n",
       "    </tr>\n",
       "    <tr>\n",
       "      <th>17950</th>\n",
       "      <td>23</td>\n",
       "      <td>59</td>\n",
       "      <td>67</td>\n",
       "      <td>1</td>\n",
       "      <td>190000.0</td>\n",
       "    </tr>\n",
       "    <tr>\n",
       "      <th>17951</th>\n",
       "      <td>22</td>\n",
       "      <td>59</td>\n",
       "      <td>67</td>\n",
       "      <td>1</td>\n",
       "      <td>170000.0</td>\n",
       "    </tr>\n",
       "    <tr>\n",
       "      <th>17952</th>\n",
       "      <td>21</td>\n",
       "      <td>59</td>\n",
       "      <td>71</td>\n",
       "      <td>1</td>\n",
       "      <td>280000.0</td>\n",
       "    </tr>\n",
       "    <tr>\n",
       "      <th>17953</th>\n",
       "      <td>19</td>\n",
       "      <td>59</td>\n",
       "      <td>75</td>\n",
       "      <td>1</td>\n",
       "      <td>325000.0</td>\n",
       "    </tr>\n",
       "  </tbody>\n",
       "</table>\n",
       "<p>17954 rows × 5 columns</p>\n",
       "</div>"
      ],
      "text/plain": [
       "       age  overall_rating  potential  international_reputation(1-5)  \\\n",
       "0       31              94         94                              5   \n",
       "1       27              88         89                              3   \n",
       "2       25              88         91                              4   \n",
       "3       27              88         88                              3   \n",
       "4       27              88         91                              3   \n",
       "...    ...             ...        ...                            ...   \n",
       "17949   25              67         70                              1   \n",
       "17950   23              59         67                              1   \n",
       "17951   22              59         67                              1   \n",
       "17952   21              59         71                              1   \n",
       "17953   19              59         75                              1   \n",
       "\n",
       "        value_euro  \n",
       "0      110500000.0  \n",
       "1       69500000.0  \n",
       "2       73000000.0  \n",
       "3       62000000.0  \n",
       "4       60000000.0  \n",
       "...            ...  \n",
       "17949     975000.0  \n",
       "17950     190000.0  \n",
       "17951     170000.0  \n",
       "17952     280000.0  \n",
       "17953     325000.0  \n",
       "\n",
       "[17954 rows x 5 columns]"
      ]
     },
     "execution_count": 5,
     "metadata": {},
     "output_type": "execute_result"
    }
   ],
   "source": [
    "df = df[['age','overall_rating','potential','international_reputation(1-5)','value_euro']]\n",
    "df"
   ]
  },
  {
   "cell_type": "code",
   "execution_count": 6,
   "metadata": {},
   "outputs": [
    {
     "data": {
      "text/plain": [
       "age                                0\n",
       "overall_rating                     0\n",
       "potential                          0\n",
       "international_reputation(1-5)      0\n",
       "value_euro                       255\n",
       "dtype: int64"
      ]
     },
     "execution_count": 6,
     "metadata": {},
     "output_type": "execute_result"
    }
   ],
   "source": [
    "df.isnull().sum()"
   ]
  },
  {
   "cell_type": "code",
   "execution_count": 7,
   "metadata": {},
   "outputs": [
    {
     "data": {
      "text/plain": [
       "(17954, 5)"
      ]
     },
     "execution_count": 7,
     "metadata": {},
     "output_type": "execute_result"
    }
   ],
   "source": [
    "df.shape"
   ]
  },
  {
   "cell_type": "code",
   "execution_count": 8,
   "metadata": {},
   "outputs": [
    {
     "data": {
      "text/plain": [
       "17699"
      ]
     },
     "execution_count": 8,
     "metadata": {},
     "output_type": "execute_result"
    }
   ],
   "source": [
    "val = 17954 - 255\n",
    "val"
   ]
  },
  {
   "cell_type": "code",
   "execution_count": 9,
   "metadata": {},
   "outputs": [],
   "source": [
    "df =  df.dropna(axis=0)"
   ]
  },
  {
   "cell_type": "code",
   "execution_count": 10,
   "metadata": {},
   "outputs": [
    {
     "data": {
      "text/plain": [
       "(17699, 5)"
      ]
     },
     "execution_count": 10,
     "metadata": {},
     "output_type": "execute_result"
    }
   ],
   "source": [
    "df.shape"
   ]
  },
  {
   "cell_type": "code",
   "execution_count": 11,
   "metadata": {},
   "outputs": [
    {
     "data": {
      "text/plain": [
       "<AxesSubplot:xlabel='overall_rating', ylabel='value_euro'>"
      ]
     },
     "execution_count": 11,
     "metadata": {},
     "output_type": "execute_result"
    },
    {
     "data": {
      "image/png": "[encoded data removed]",
      "text/plain": [
       "<Figure size 432x288 with 1 Axes>"
      ]
     },
     "metadata": {
      "needs_background": "light"
     },
     "output_type": "display_data"
    }
   ],
   "source": [
    "sns.regplot(x=df['overall_rating'], y='value_euro',data=df)"
   ]
  },
  {
   "cell_type": "code",
   "execution_count": 12,
   "metadata": {},
   "outputs": [
    {
     "data": {
      "text/plain": [
       "5687013.850993571"
      ]
     },
     "execution_count": 12,
     "metadata": {},
     "output_type": "execute_result"
    }
   ],
   "source": [
    "df.value_euro.std()"
   ]
  },
  {
   "cell_type": "code",
   "execution_count": 13,
   "metadata": {},
   "outputs": [
    {
     "data": {
      "text/plain": [
       "Index(['age', 'overall_rating', 'potential', 'international_reputation(1-5)',\n",
       "       'value_euro'],\n",
       "      dtype='object')"
      ]
     },
     "execution_count": 13,
     "metadata": {},
     "output_type": "execute_result"
    }
   ],
   "source": [
    "df.columns"
   ]
  },
  {
   "cell_type": "code",
   "execution_count": 14,
   "metadata": {},
   "outputs": [],
   "source": [
    "#df_mini_sample = df[['overall_rating','potential', 'international_reputation(1-5)', 'value_euro']].head(12)\n",
    "df_mini_sample = df[['overall_rating','potential', 'international_reputation(1-5)', 'value_euro']]"
   ]
  },
  {
   "cell_type": "code",
   "execution_count": 15,
   "metadata": {},
   "outputs": [],
   "source": [
    "#df_mini_sample.to_csv('fifa_short.csv')"
   ]
  },
  {
   "cell_type": "markdown",
   "metadata": {},
   "source": [
    "## Mini dataset"
   ]
  },
  {
   "cell_type": "code",
   "execution_count": 16,
   "metadata": {},
   "outputs": [],
   "source": [
    "X_mini = df_mini_sample[['overall_rating','potential', 'international_reputation(1-5)']].values\n",
    "y_mini = df_mini_sample.value_euro"
   ]
  },
  {
   "cell_type": "code",
   "execution_count": 17,
   "metadata": {},
   "outputs": [],
   "source": [
    "X_mini_train = X_mini[:-4,:]\n",
    "X_mini_test  = X_mini[-4:,:]\n",
    "y_mini_train  = y_mini[:-4,]\n",
    "y_mini_test  = y_mini[-4:,]"
   ]
  },
  {
   "cell_type": "code",
   "execution_count": 18,
   "metadata": {},
   "outputs": [
    {
     "data": {
      "text/plain": [
       "(-1.0, 116503149.54505505)"
      ]
     },
     "execution_count": 18,
     "metadata": {},
     "output_type": "execute_result"
    },
    {
     "data": {
      "image/png": "[encoded data removed]",
      "text/plain": [
       "<Figure size 432x288 with 1 Axes>"
      ]
     },
     "metadata": {
      "needs_background": "light"
     },
     "output_type": "display_data"
    }
   ],
   "source": [
    "sns.regplot(x=df_mini_sample.potential ,y=df_mini_sample.value_euro, data=df_mini_sample)\n",
    "plt.ylim(-1)"
   ]
  },
  {
   "cell_type": "markdown",
   "metadata": {},
   "source": [
    "## Modelamiento Polinomial"
   ]
  },
  {
   "cell_type": "code",
   "execution_count": 19,
   "metadata": {},
   "outputs": [],
   "source": [
    "from sklearn.linear_model import LinearRegression"
   ]
  },
  {
   "cell_type": "code",
   "execution_count": 20,
   "metadata": {},
   "outputs": [],
   "source": [
    "lr = LinearRegression()"
   ]
  },
  {
   "cell_type": "code",
   "execution_count": 21,
   "metadata": {},
   "outputs": [
    {
     "data": {
      "text/plain": [
       "LinearRegression()"
      ]
     },
     "execution_count": 21,
     "metadata": {},
     "output_type": "execute_result"
    }
   ],
   "source": [
    "lr.fit(X_mini,y_mini)"
   ]
  },
  {
   "cell_type": "code",
   "execution_count": 22,
   "metadata": {},
   "outputs": [
    {
     "data": {
      "text/plain": [
       "array([[59, 67,  1],\n",
       "       [59, 67,  1],\n",
       "       [59, 71,  1],\n",
       "       [59, 75,  1]], dtype=int64)"
      ]
     },
     "execution_count": 22,
     "metadata": {},
     "output_type": "execute_result"
    }
   ],
   "source": [
    "X_mini_test"
   ]
  },
  {
   "cell_type": "code",
   "execution_count": 23,
   "metadata": {},
   "outputs": [],
   "source": [
    "y_pred_enf1 = lr.predict(X_mini_test) "
   ]
  },
  {
   "cell_type": "code",
   "execution_count": 24,
   "metadata": {},
   "outputs": [],
   "source": [
    "ype1_round = np.round(y_pred_enf1)"
   ]
  },
  {
   "cell_type": "code",
   "execution_count": 25,
   "metadata": {},
   "outputs": [
    {
     "data": {
      "text/plain": [
       "array([-776743., -776743.,  180115., 1136973.])"
      ]
     },
     "execution_count": 25,
     "metadata": {},
     "output_type": "execute_result"
    }
   ],
   "source": [
    "ype1_round"
   ]
  },
  {
   "cell_type": "markdown",
   "metadata": {},
   "source": [
    "## Cálculo con el enfoque train test split"
   ]
  },
  {
   "cell_type": "code",
   "execution_count": 26,
   "metadata": {},
   "outputs": [],
   "source": [
    "lr2 = LinearRegression()"
   ]
  },
  {
   "cell_type": "code",
   "execution_count": 27,
   "metadata": {},
   "outputs": [
    {
     "data": {
      "text/plain": [
       "LinearRegression()"
      ]
     },
     "execution_count": 27,
     "metadata": {},
     "output_type": "execute_result"
    }
   ],
   "source": [
    "lr2.fit(X_mini_train, y_mini_train)"
   ]
  },
  {
   "cell_type": "code",
   "execution_count": 28,
   "metadata": {},
   "outputs": [],
   "source": [
    "y_pred2 = lr2.predict(X_mini_test)"
   ]
  },
  {
   "cell_type": "code",
   "execution_count": 29,
   "metadata": {},
   "outputs": [
    {
     "data": {
      "text/plain": [
       "array([-776895., -776895.,  180031., 1136957.])"
      ]
     },
     "execution_count": 29,
     "metadata": {},
     "output_type": "execute_result"
    }
   ],
   "source": [
    "ype2_round = np.round(y_pred2)\n",
    "ype2_round"
   ]
  }
 ],
 "metadata": {
  "kernelspec": {
   "display_name": "Python 3.9.12 ('base')",
   "language": "python",
   "name": "python3"
  },
  "language_info": {
   "codemirror_mode": {
    "name": "ipython",
    "version": 3
   },
   "file_extension": ".py",
   "mimetype": "text/x-python",
   "name": "python",
   "nbconvert_exporter": "python",
   "pygments_lexer": "ipython3",
   "version": "3.9.12"
  },
  "orig_nbformat": 4,
  "vscode": {
   "interpreter": {
    "hash": "06f4e27a9af80e5ead6f722de283f9f5c5efb596ec46474c8380725429ee4af4"
   }
  }
 },
 "nbformat": 4,
 "nbformat_minor": 2
}
