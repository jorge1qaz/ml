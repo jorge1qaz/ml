{
 "cells": [
  {
   "cell_type": "code",
   "execution_count": 41,
   "metadata": {},
   "outputs": [],
   "source": [
    "import numpy as np\n",
    "import pandas as pd\n",
    "import matplotlib.pyplot as plt\n",
    "import seaborn as sns\n",
    "from scipy import stats\n",
    "from tabulate import tabulate\n",
    "%matplotlib inline "
   ]
  },
  {
   "cell_type": "code",
   "execution_count": 42,
   "metadata": {},
   "outputs": [],
   "source": [
    "from sklearn.linear_model import LinearRegression\n",
    "from sklearn.model_selection import train_test_split\n",
    "from sklearn.metrics import r2_score, mean_squared_error, mean_absolute_error\n",
    "from sklearn.preprocessing import PolynomialFeatures\n",
    "from sklearn.pipeline import Pipeline\n",
    "from sklearn.preprocessing import StandardScaler\n",
    "from sklearn.model_selection import cross_val_score"
   ]
  },
  {
   "cell_type": "code",
   "execution_count": 43,
   "metadata": {},
   "outputs": [
    {
     "data": {
      "text/html": [
       "<div>\n",
       "<style scoped>\n",
       "    .dataframe tbody tr th:only-of-type {\n",
       "        vertical-align: middle;\n",
       "    }\n",
       "\n",
       "    .dataframe tbody tr th {\n",
       "        vertical-align: top;\n",
       "    }\n",
       "\n",
       "    .dataframe thead th {\n",
       "        text-align: right;\n",
       "    }\n",
       "</style>\n",
       "<table border=\"1\" class=\"dataframe\">\n",
       "  <thead>\n",
       "    <tr style=\"text-align: right;\">\n",
       "      <th></th>\n",
       "      <th>Unnamed: 0</th>\n",
       "      <th>overall_rating</th>\n",
       "      <th>potential</th>\n",
       "      <th>international_reputation(1-5)</th>\n",
       "      <th>value_euro</th>\n",
       "    </tr>\n",
       "  </thead>\n",
       "  <tbody>\n",
       "    <tr>\n",
       "      <th>0</th>\n",
       "      <td>0</td>\n",
       "      <td>94</td>\n",
       "      <td>94</td>\n",
       "      <td>5</td>\n",
       "      <td>110500000.0</td>\n",
       "    </tr>\n",
       "    <tr>\n",
       "      <th>1</th>\n",
       "      <td>1</td>\n",
       "      <td>88</td>\n",
       "      <td>89</td>\n",
       "      <td>3</td>\n",
       "      <td>69500000.0</td>\n",
       "    </tr>\n",
       "    <tr>\n",
       "      <th>2</th>\n",
       "      <td>2</td>\n",
       "      <td>88</td>\n",
       "      <td>91</td>\n",
       "      <td>4</td>\n",
       "      <td>73000000.0</td>\n",
       "    </tr>\n",
       "    <tr>\n",
       "      <th>3</th>\n",
       "      <td>3</td>\n",
       "      <td>88</td>\n",
       "      <td>88</td>\n",
       "      <td>3</td>\n",
       "      <td>62000000.0</td>\n",
       "    </tr>\n",
       "    <tr>\n",
       "      <th>4</th>\n",
       "      <td>4</td>\n",
       "      <td>88</td>\n",
       "      <td>91</td>\n",
       "      <td>3</td>\n",
       "      <td>60000000.0</td>\n",
       "    </tr>\n",
       "    <tr>\n",
       "      <th>...</th>\n",
       "      <td>...</td>\n",
       "      <td>...</td>\n",
       "      <td>...</td>\n",
       "      <td>...</td>\n",
       "      <td>...</td>\n",
       "    </tr>\n",
       "    <tr>\n",
       "      <th>17694</th>\n",
       "      <td>17949</td>\n",
       "      <td>67</td>\n",
       "      <td>70</td>\n",
       "      <td>1</td>\n",
       "      <td>975000.0</td>\n",
       "    </tr>\n",
       "    <tr>\n",
       "      <th>17695</th>\n",
       "      <td>17950</td>\n",
       "      <td>59</td>\n",
       "      <td>67</td>\n",
       "      <td>1</td>\n",
       "      <td>190000.0</td>\n",
       "    </tr>\n",
       "    <tr>\n",
       "      <th>17696</th>\n",
       "      <td>17951</td>\n",
       "      <td>59</td>\n",
       "      <td>67</td>\n",
       "      <td>1</td>\n",
       "      <td>170000.0</td>\n",
       "    </tr>\n",
       "    <tr>\n",
       "      <th>17697</th>\n",
       "      <td>17952</td>\n",
       "      <td>59</td>\n",
       "      <td>71</td>\n",
       "      <td>1</td>\n",
       "      <td>280000.0</td>\n",
       "    </tr>\n",
       "    <tr>\n",
       "      <th>17698</th>\n",
       "      <td>17953</td>\n",
       "      <td>59</td>\n",
       "      <td>75</td>\n",
       "      <td>1</td>\n",
       "      <td>325000.0</td>\n",
       "    </tr>\n",
       "  </tbody>\n",
       "</table>\n",
       "<p>17699 rows × 5 columns</p>\n",
       "</div>"
      ],
      "text/plain": [
       "       Unnamed: 0  overall_rating  potential  international_reputation(1-5)  \\\n",
       "0               0              94         94                              5   \n",
       "1               1              88         89                              3   \n",
       "2               2              88         91                              4   \n",
       "3               3              88         88                              3   \n",
       "4               4              88         91                              3   \n",
       "...           ...             ...        ...                            ...   \n",
       "17694       17949              67         70                              1   \n",
       "17695       17950              59         67                              1   \n",
       "17696       17951              59         67                              1   \n",
       "17697       17952              59         71                              1   \n",
       "17698       17953              59         75                              1   \n",
       "\n",
       "        value_euro  \n",
       "0      110500000.0  \n",
       "1       69500000.0  \n",
       "2       73000000.0  \n",
       "3       62000000.0  \n",
       "4       60000000.0  \n",
       "...            ...  \n",
       "17694     975000.0  \n",
       "17695     190000.0  \n",
       "17696     170000.0  \n",
       "17697     280000.0  \n",
       "17698     325000.0  \n",
       "\n",
       "[17699 rows x 5 columns]"
      ]
     },
     "execution_count": 43,
     "metadata": {},
     "output_type": "execute_result"
    }
   ],
   "source": [
    "df = pd.read_csv('fifa_short.csv')\n",
    "df"
   ]
  },
  {
   "cell_type": "code",
   "execution_count": 44,
   "metadata": {},
   "outputs": [
    {
     "data": {
      "text/html": [
       "<div>\n",
       "<style scoped>\n",
       "    .dataframe tbody tr th:only-of-type {\n",
       "        vertical-align: middle;\n",
       "    }\n",
       "\n",
       "    .dataframe tbody tr th {\n",
       "        vertical-align: top;\n",
       "    }\n",
       "\n",
       "    .dataframe thead th {\n",
       "        text-align: right;\n",
       "    }\n",
       "</style>\n",
       "<table border=\"1\" class=\"dataframe\">\n",
       "  <thead>\n",
       "    <tr style=\"text-align: right;\">\n",
       "      <th></th>\n",
       "      <th>overall_rating</th>\n",
       "      <th>potential</th>\n",
       "      <th>international_reputation(1-5)</th>\n",
       "      <th>value_euro</th>\n",
       "    </tr>\n",
       "  </thead>\n",
       "  <tbody>\n",
       "    <tr>\n",
       "      <th>0</th>\n",
       "      <td>94</td>\n",
       "      <td>94</td>\n",
       "      <td>5</td>\n",
       "      <td>110500000.0</td>\n",
       "    </tr>\n",
       "    <tr>\n",
       "      <th>1</th>\n",
       "      <td>88</td>\n",
       "      <td>89</td>\n",
       "      <td>3</td>\n",
       "      <td>69500000.0</td>\n",
       "    </tr>\n",
       "    <tr>\n",
       "      <th>2</th>\n",
       "      <td>88</td>\n",
       "      <td>91</td>\n",
       "      <td>4</td>\n",
       "      <td>73000000.0</td>\n",
       "    </tr>\n",
       "    <tr>\n",
       "      <th>3</th>\n",
       "      <td>88</td>\n",
       "      <td>88</td>\n",
       "      <td>3</td>\n",
       "      <td>62000000.0</td>\n",
       "    </tr>\n",
       "    <tr>\n",
       "      <th>4</th>\n",
       "      <td>88</td>\n",
       "      <td>91</td>\n",
       "      <td>3</td>\n",
       "      <td>60000000.0</td>\n",
       "    </tr>\n",
       "    <tr>\n",
       "      <th>...</th>\n",
       "      <td>...</td>\n",
       "      <td>...</td>\n",
       "      <td>...</td>\n",
       "      <td>...</td>\n",
       "    </tr>\n",
       "    <tr>\n",
       "      <th>17694</th>\n",
       "      <td>67</td>\n",
       "      <td>70</td>\n",
       "      <td>1</td>\n",
       "      <td>975000.0</td>\n",
       "    </tr>\n",
       "    <tr>\n",
       "      <th>17695</th>\n",
       "      <td>59</td>\n",
       "      <td>67</td>\n",
       "      <td>1</td>\n",
       "      <td>190000.0</td>\n",
       "    </tr>\n",
       "    <tr>\n",
       "      <th>17696</th>\n",
       "      <td>59</td>\n",
       "      <td>67</td>\n",
       "      <td>1</td>\n",
       "      <td>170000.0</td>\n",
       "    </tr>\n",
       "    <tr>\n",
       "      <th>17697</th>\n",
       "      <td>59</td>\n",
       "      <td>71</td>\n",
       "      <td>1</td>\n",
       "      <td>280000.0</td>\n",
       "    </tr>\n",
       "    <tr>\n",
       "      <th>17698</th>\n",
       "      <td>59</td>\n",
       "      <td>75</td>\n",
       "      <td>1</td>\n",
       "      <td>325000.0</td>\n",
       "    </tr>\n",
       "  </tbody>\n",
       "</table>\n",
       "<p>17699 rows × 4 columns</p>\n",
       "</div>"
      ],
      "text/plain": [
       "       overall_rating  potential  international_reputation(1-5)   value_euro\n",
       "0                  94         94                              5  110500000.0\n",
       "1                  88         89                              3   69500000.0\n",
       "2                  88         91                              4   73000000.0\n",
       "3                  88         88                              3   62000000.0\n",
       "4                  88         91                              3   60000000.0\n",
       "...               ...        ...                            ...          ...\n",
       "17694              67         70                              1     975000.0\n",
       "17695              59         67                              1     190000.0\n",
       "17696              59         67                              1     170000.0\n",
       "17697              59         71                              1     280000.0\n",
       "17698              59         75                              1     325000.0\n",
       "\n",
       "[17699 rows x 4 columns]"
      ]
     },
     "execution_count": 44,
     "metadata": {},
     "output_type": "execute_result"
    }
   ],
   "source": [
    "df = df.drop(['Unnamed: 0'], axis=1)\n",
    "df"
   ]
  },
  {
   "cell_type": "code",
   "execution_count": 45,
   "metadata": {},
   "outputs": [
    {
     "data": {
      "text/html": [
       "<div>\n",
       "<style scoped>\n",
       "    .dataframe tbody tr th:only-of-type {\n",
       "        vertical-align: middle;\n",
       "    }\n",
       "\n",
       "    .dataframe tbody tr th {\n",
       "        vertical-align: top;\n",
       "    }\n",
       "\n",
       "    .dataframe thead th {\n",
       "        text-align: right;\n",
       "    }\n",
       "</style>\n",
       "<table border=\"1\" class=\"dataframe\">\n",
       "  <thead>\n",
       "    <tr style=\"text-align: right;\">\n",
       "      <th></th>\n",
       "      <th>overall_rating</th>\n",
       "      <th>potential</th>\n",
       "      <th>international_reputation(1-5)</th>\n",
       "      <th>value_euro</th>\n",
       "    </tr>\n",
       "  </thead>\n",
       "  <tbody>\n",
       "    <tr>\n",
       "      <th>count</th>\n",
       "      <td>17699.000000</td>\n",
       "      <td>17699.000000</td>\n",
       "      <td>17699.000000</td>\n",
       "      <td>1.769900e+04</td>\n",
       "    </tr>\n",
       "    <tr>\n",
       "      <th>mean</th>\n",
       "      <td>66.225662</td>\n",
       "      <td>71.449686</td>\n",
       "      <td>1.111984</td>\n",
       "      <td>2.479280e+06</td>\n",
       "    </tr>\n",
       "    <tr>\n",
       "      <th>std</th>\n",
       "      <td>6.974595</td>\n",
       "      <td>6.134616</td>\n",
       "      <td>0.393044</td>\n",
       "      <td>5.687014e+06</td>\n",
       "    </tr>\n",
       "    <tr>\n",
       "      <th>min</th>\n",
       "      <td>47.000000</td>\n",
       "      <td>50.000000</td>\n",
       "      <td>1.000000</td>\n",
       "      <td>1.000000e+04</td>\n",
       "    </tr>\n",
       "    <tr>\n",
       "      <th>25%</th>\n",
       "      <td>62.000000</td>\n",
       "      <td>67.000000</td>\n",
       "      <td>1.000000</td>\n",
       "      <td>3.250000e+05</td>\n",
       "    </tr>\n",
       "    <tr>\n",
       "      <th>50%</th>\n",
       "      <td>66.000000</td>\n",
       "      <td>71.000000</td>\n",
       "      <td>1.000000</td>\n",
       "      <td>7.000000e+05</td>\n",
       "    </tr>\n",
       "    <tr>\n",
       "      <th>75%</th>\n",
       "      <td>71.000000</td>\n",
       "      <td>75.000000</td>\n",
       "      <td>1.000000</td>\n",
       "      <td>2.100000e+06</td>\n",
       "    </tr>\n",
       "    <tr>\n",
       "      <th>max</th>\n",
       "      <td>94.000000</td>\n",
       "      <td>95.000000</td>\n",
       "      <td>5.000000</td>\n",
       "      <td>1.105000e+08</td>\n",
       "    </tr>\n",
       "  </tbody>\n",
       "</table>\n",
       "</div>"
      ],
      "text/plain": [
       "       overall_rating     potential  international_reputation(1-5)  \\\n",
       "count    17699.000000  17699.000000                   17699.000000   \n",
       "mean        66.225662     71.449686                       1.111984   \n",
       "std          6.974595      6.134616                       0.393044   \n",
       "min         47.000000     50.000000                       1.000000   \n",
       "25%         62.000000     67.000000                       1.000000   \n",
       "50%         66.000000     71.000000                       1.000000   \n",
       "75%         71.000000     75.000000                       1.000000   \n",
       "max         94.000000     95.000000                       5.000000   \n",
       "\n",
       "         value_euro  \n",
       "count  1.769900e+04  \n",
       "mean   2.479280e+06  \n",
       "std    5.687014e+06  \n",
       "min    1.000000e+04  \n",
       "25%    3.250000e+05  \n",
       "50%    7.000000e+05  \n",
       "75%    2.100000e+06  \n",
       "max    1.105000e+08  "
      ]
     },
     "execution_count": 45,
     "metadata": {},
     "output_type": "execute_result"
    }
   ],
   "source": [
    "df.describe()"
   ]
  },
  {
   "cell_type": "code",
   "execution_count": 46,
   "metadata": {},
   "outputs": [
    {
     "data": {
      "text/html": [
       "<div>\n",
       "<style scoped>\n",
       "    .dataframe tbody tr th:only-of-type {\n",
       "        vertical-align: middle;\n",
       "    }\n",
       "\n",
       "    .dataframe tbody tr th {\n",
       "        vertical-align: top;\n",
       "    }\n",
       "\n",
       "    .dataframe thead th {\n",
       "        text-align: right;\n",
       "    }\n",
       "</style>\n",
       "<table border=\"1\" class=\"dataframe\">\n",
       "  <thead>\n",
       "    <tr style=\"text-align: right;\">\n",
       "      <th></th>\n",
       "      <th>overall_rating</th>\n",
       "      <th>potential</th>\n",
       "      <th>international_reputation(1-5)</th>\n",
       "      <th>value_euro</th>\n",
       "    </tr>\n",
       "  </thead>\n",
       "  <tbody>\n",
       "    <tr>\n",
       "      <th>0</th>\n",
       "      <td>94</td>\n",
       "      <td>94</td>\n",
       "      <td>5</td>\n",
       "      <td>110500000.0</td>\n",
       "    </tr>\n",
       "    <tr>\n",
       "      <th>1</th>\n",
       "      <td>88</td>\n",
       "      <td>89</td>\n",
       "      <td>3</td>\n",
       "      <td>69500000.0</td>\n",
       "    </tr>\n",
       "    <tr>\n",
       "      <th>2</th>\n",
       "      <td>88</td>\n",
       "      <td>91</td>\n",
       "      <td>4</td>\n",
       "      <td>73000000.0</td>\n",
       "    </tr>\n",
       "    <tr>\n",
       "      <th>3</th>\n",
       "      <td>88</td>\n",
       "      <td>88</td>\n",
       "      <td>3</td>\n",
       "      <td>62000000.0</td>\n",
       "    </tr>\n",
       "    <tr>\n",
       "      <th>4</th>\n",
       "      <td>88</td>\n",
       "      <td>91</td>\n",
       "      <td>3</td>\n",
       "      <td>60000000.0</td>\n",
       "    </tr>\n",
       "    <tr>\n",
       "      <th>...</th>\n",
       "      <td>...</td>\n",
       "      <td>...</td>\n",
       "      <td>...</td>\n",
       "      <td>...</td>\n",
       "    </tr>\n",
       "    <tr>\n",
       "      <th>17694</th>\n",
       "      <td>67</td>\n",
       "      <td>70</td>\n",
       "      <td>1</td>\n",
       "      <td>975000.0</td>\n",
       "    </tr>\n",
       "    <tr>\n",
       "      <th>17695</th>\n",
       "      <td>59</td>\n",
       "      <td>67</td>\n",
       "      <td>1</td>\n",
       "      <td>190000.0</td>\n",
       "    </tr>\n",
       "    <tr>\n",
       "      <th>17696</th>\n",
       "      <td>59</td>\n",
       "      <td>67</td>\n",
       "      <td>1</td>\n",
       "      <td>170000.0</td>\n",
       "    </tr>\n",
       "    <tr>\n",
       "      <th>17697</th>\n",
       "      <td>59</td>\n",
       "      <td>71</td>\n",
       "      <td>1</td>\n",
       "      <td>280000.0</td>\n",
       "    </tr>\n",
       "    <tr>\n",
       "      <th>17698</th>\n",
       "      <td>59</td>\n",
       "      <td>75</td>\n",
       "      <td>1</td>\n",
       "      <td>325000.0</td>\n",
       "    </tr>\n",
       "  </tbody>\n",
       "</table>\n",
       "<p>17699 rows × 4 columns</p>\n",
       "</div>"
      ],
      "text/plain": [
       "       overall_rating  potential  international_reputation(1-5)   value_euro\n",
       "0                  94         94                              5  110500000.0\n",
       "1                  88         89                              3   69500000.0\n",
       "2                  88         91                              4   73000000.0\n",
       "3                  88         88                              3   62000000.0\n",
       "4                  88         91                              3   60000000.0\n",
       "...               ...        ...                            ...          ...\n",
       "17694              67         70                              1     975000.0\n",
       "17695              59         67                              1     190000.0\n",
       "17696              59         67                              1     170000.0\n",
       "17697              59         71                              1     280000.0\n",
       "17698              59         75                              1     325000.0\n",
       "\n",
       "[17699 rows x 4 columns]"
      ]
     },
     "execution_count": 46,
     "metadata": {},
     "output_type": "execute_result"
    }
   ],
   "source": [
    "df"
   ]
  },
  {
   "cell_type": "code",
   "execution_count": 47,
   "metadata": {},
   "outputs": [
    {
     "data": {
      "text/plain": [
       "(0.0, 116500020.1075609)"
      ]
     },
     "execution_count": 47,
     "metadata": {},
     "output_type": "execute_result"
    },
    {
     "data": {
      "image/png": "[encoded data removed]",
      "text/plain": [
       "<Figure size 432x288 with 1 Axes>"
      ]
     },
     "metadata": {},
     "output_type": "display_data"
    }
   ],
   "source": [
    "sns.set_theme(color_codes=True)\n",
    "graph_potential = sns.regplot(x=\"potential\", y=\"value_euro\", data=df)\n",
    "graph_potential.set(xlabel='Potencial', ylabel='Valor en euros')\n",
    "plt.ylim(0,)"
   ]
  },
  {
   "cell_type": "code",
   "execution_count": 48,
   "metadata": {},
   "outputs": [
    {
     "data": {
      "text/plain": [
       "(0.0, 116417012.18097347)"
      ]
     },
     "execution_count": 48,
     "metadata": {},
     "output_type": "execute_result"
    },
    {
     "data": {
      "image/png": "[encoded data removed]",
      "text/plain": [
       "<Figure size 432x288 with 1 Axes>"
      ]
     },
     "metadata": {},
     "output_type": "display_data"
    }
   ],
   "source": [
    "graph_overall_rating = sns.regplot(x=\"overall_rating\", y=\"value_euro\", data=df)\n",
    "graph_overall_rating.set(xlabel='Valoración general', ylabel='Valor en euros')\n",
    "plt.ylim(0,)"
   ]
  },
  {
   "cell_type": "markdown",
   "metadata": {},
   "source": [
    "Como la variable *international_reputation(1-5)* es categórica, tendrémos que emplear el gráfico de cajas para poder apreciar la distribución de la variable dependiente en relación al puntaje de la *reputación internacional (1) al (5)*"
   ]
  },
  {
   "cell_type": "code",
   "execution_count": 49,
   "metadata": {},
   "outputs": [
    {
     "data": {
      "text/plain": [
       "<AxesSubplot:xlabel='international_reputation(1-5)', ylabel='value_euro'>"
      ]
     },
     "execution_count": 49,
     "metadata": {},
     "output_type": "execute_result"
    },
    {
     "data": {
      "image/png": "[encoded data removed]",
      "text/plain": [
       "<Figure size 432x288 with 1 Axes>"
      ]
     },
     "metadata": {},
     "output_type": "display_data"
    }
   ],
   "source": [
    "sns.boxplot(x=\"international_reputation(1-5)\", y=\"value_euro\", data=df)"
   ]
  },
  {
   "cell_type": "code",
   "execution_count": 50,
   "metadata": {},
   "outputs": [
    {
     "name": "stdout",
     "output_type": "stream",
     "text": [
      "El coeficiente de la Correlación de Pearson es 0.63  con un valor de P = 0.0\n"
     ]
    }
   ],
   "source": [
    "coeficiente_pearson, valor_p = stats.pearsonr(df['overall_rating'], df['value_euro'])\n",
    "print(\"El coeficiente de la Correlación de Pearson es %.2f\" % coeficiente_pearson, \" con un valor de P =\", valor_p)"
   ]
  },
  {
   "cell_type": "markdown",
   "metadata": {},
   "source": [
    "Almacenamiento de las variables independientes en un unico arreglo numpy \"X\""
   ]
  },
  {
   "cell_type": "code",
   "execution_count": 51,
   "metadata": {},
   "outputs": [
    {
     "data": {
      "text/plain": [
       "array([[94, 94,  5],\n",
       "       [88, 89,  3],\n",
       "       [88, 91,  4],\n",
       "       ...,\n",
       "       [59, 67,  1],\n",
       "       [59, 71,  1],\n",
       "       [59, 75,  1]], dtype=int64)"
      ]
     },
     "execution_count": 51,
     "metadata": {},
     "output_type": "execute_result"
    }
   ],
   "source": [
    "X = df[['overall_rating','potential','international_reputation(1-5)']].values\n",
    "X"
   ]
  },
  {
   "cell_type": "markdown",
   "metadata": {},
   "source": [
    "Almacenamiento de la variable dependientes en un unico arreglo numpy \"y\""
   ]
  },
  {
   "cell_type": "code",
   "execution_count": 52,
   "metadata": {},
   "outputs": [
    {
     "data": {
      "text/plain": [
       "array([[1.105e+08],\n",
       "       [6.950e+07],\n",
       "       [7.300e+07],\n",
       "       ...,\n",
       "       [1.700e+05],\n",
       "       [2.800e+05],\n",
       "       [3.250e+05]])"
      ]
     },
     "execution_count": 52,
     "metadata": {},
     "output_type": "execute_result"
    }
   ],
   "source": [
    "y = df[['value_euro']].values\n",
    "y"
   ]
  },
  {
   "cell_type": "markdown",
   "metadata": {},
   "source": [
    "## Enfoque Train/Test Split"
   ]
  },
  {
   "cell_type": "code",
   "execution_count": 53,
   "metadata": {},
   "outputs": [],
   "source": [
    "X_train, X_test, y_train, y_test = train_test_split(X,y)"
   ]
  },
  {
   "cell_type": "code",
   "execution_count": 54,
   "metadata": {},
   "outputs": [
    {
     "name": "stdout",
     "output_type": "stream",
     "text": [
      "X_train:  (13274, 3) y_train:  (13274, 1) X_test:  (4425, 3) y_test:  (4425, 1)\n"
     ]
    }
   ],
   "source": [
    "print( 'X_train: ', X_train.shape, 'y_train: ', y_train.shape, 'X_test: ', X_test.shape, 'y_test: ', y_test.shape)"
   ]
  },
  {
   "cell_type": "markdown",
   "metadata": {},
   "source": [
    "Vamos a aplicar regresión lineal"
   ]
  },
  {
   "cell_type": "code",
   "execution_count": 55,
   "metadata": {},
   "outputs": [],
   "source": [
    "lr = LinearRegression()"
   ]
  },
  {
   "cell_type": "markdown",
   "metadata": {},
   "source": [
    "Entrenando el modelo con el 75% del dataset, valor por defecto cuando no le indicamos *train_test_split* el valor que tendrá *test_size*  "
   ]
  },
  {
   "cell_type": "code",
   "execution_count": 56,
   "metadata": {},
   "outputs": [
    {
     "data": {
      "text/plain": [
       "LinearRegression()"
      ]
     },
     "execution_count": 56,
     "metadata": {},
     "output_type": "execute_result"
    }
   ],
   "source": [
    "lr.fit(X_train[:,:2], y_train)"
   ]
  },
  {
   "cell_type": "markdown",
   "metadata": {},
   "source": [
    "Almacenando los valores pronosticados por nuestro modelo en el arreglo *lr_y_pred* usando el dataset de pruebas X_test"
   ]
  },
  {
   "cell_type": "code",
   "execution_count": 57,
   "metadata": {},
   "outputs": [],
   "source": [
    "lr_y_pred = lr.predict(X_test[:,:2])"
   ]
  },
  {
   "cell_type": "markdown",
   "metadata": {},
   "source": [
    "Obteniendo los coeficientes de la ecuación de regresión lineal múltiple  \n",
    "$\\text{ \\ }Y_{i}=\\beta_{0}+\\beta_{1}X_{i1}+\\cdots+\\beta\n",
    "_{k}X_{ik}+\\varepsilon_{i}$"
   ]
  },
  {
   "cell_type": "code",
   "execution_count": 58,
   "metadata": {},
   "outputs": [
    {
     "name": "stdout",
     "output_type": "stream",
     "text": [
      "Evaluación    Resultados\n",
      "------------  -----------------------\n",
      "Intercepto    [-40710780.58061466]\n",
      "Coeficientes  [[359330.92 271862.45]]\n"
     ]
    }
   ],
   "source": [
    "d = [ [\"Intercepto\", lr.intercept_],           \n",
    "     [\"Coeficientes\",  np.round(lr.coef_, 2)] ]         \n",
    "\n",
    "print(tabulate(d, headers=[\"Evaluación\", \"Resultados\"]))"
   ]
  },
  {
   "cell_type": "markdown",
   "metadata": {},
   "source": [
    "Ahora podemos comparar los **valores reales (y_test)** con los **valores pronosticados (lr_y_pred)** y obtener los parámetros de las distintas mediciones del error y precisión."
   ]
  },
  {
   "cell_type": "code",
   "execution_count": 59,
   "metadata": {},
   "outputs": [
    {
     "name": "stdout",
     "output_type": "stream",
     "text": [
      "Evaluación                              Resultados\n",
      "------------------------------------  ------------\n",
      "MAE Error medio absoluto               2.23032e+06\n",
      "MSE Error Cuadrático Medio             1.64599e+13\n",
      "RMSE Raíz del Error Cuadrático Medio   4.05708e+06\n",
      "Coeficiente de determinación R2        0.459975\n"
     ]
    }
   ],
   "source": [
    "d = [ [\"MAE Error medio absoluto\", np.round( mean_absolute_error(y_test, lr_y_pred), 2 )],\n",
    "     [\"MSE Error Cuadrático Medio\", np.round( mean_squared_error(y_test, lr_y_pred), 2 )],\n",
    "     [\"RMSE Raíz del Error Cuadrático Medio\", np.round( np.sqrt( mean_squared_error(y_test, lr_y_pred) ), 2)],\n",
    "     #[\"Coeficiente de determinación\",  r2_score(y_test, lr_y_pred)],\n",
    "     [\"Coeficiente de determinación R2\", lr.score(X_test[:,:2], y_test)] ]\n",
    "\n",
    "print(tabulate(d, headers=[\"Evaluación\", \"Resultados\"]))"
   ]
  },
  {
   "cell_type": "markdown",
   "metadata": {},
   "source": [
    "Notamos que los valores de $R^2$ son muy bajos, menor al 0.5, así que debemos aplicar otro modelo que se ajuste mejor a la distribución de los datos.\n"
   ]
  },
  {
   "cell_type": "markdown",
   "metadata": {},
   "source": [
    "## Regresión Polinomial\n",
    "Notamos que la gráfica tiene una tendencía a la alza a medida que aumenta las variables independientes, y esta se hace mas pronunciada a medida que los valores son mas grandes, por ello usaremos la regresión polinomial para ajustar mejor la precisión del modelo. \n",
    " \n",
    "$\\widehat{Y}=\\alpha+\\beta_{1}X+\\beta_{2}X^2+\\beta_{3}X^3+\\cdots$"
   ]
  },
  {
   "cell_type": "code",
   "execution_count": 60,
   "metadata": {},
   "outputs": [],
   "source": [
    "# Usaremos polinomios de grado 2\n",
    "poly_fea = PolynomialFeatures(degree=2) "
   ]
  },
  {
   "cell_type": "code",
   "execution_count": 61,
   "metadata": {},
   "outputs": [
    {
     "data": {
      "text/plain": [
       "array([[70, 81],\n",
       "       [51, 63],\n",
       "       [64, 69],\n",
       "       ...,\n",
       "       [70, 70],\n",
       "       [63, 68],\n",
       "       [58, 59]], dtype=int64)"
      ]
     },
     "execution_count": 61,
     "metadata": {},
     "output_type": "execute_result"
    }
   ],
   "source": [
    "X_train[:,:2]"
   ]
  },
  {
   "cell_type": "markdown",
   "metadata": {},
   "source": [
    "Normalizando los datos"
   ]
  },
  {
   "cell_type": "code",
   "execution_count": 62,
   "metadata": {},
   "outputs": [],
   "source": [
    "X_train_2c = X_train[:,:2]\n",
    "X_t2c_normal = poly_fea.fit_transform(X_train_2c)\n",
    "X_t2c_normal = X_t2c_normal.astype(float)"
   ]
  },
  {
   "cell_type": "code",
   "execution_count": 63,
   "metadata": {},
   "outputs": [],
   "source": [
    "Entrada=[('normalizar', StandardScaler()), ('polinomio', PolynomialFeatures(include_bias=False)), ('modelo',LinearRegression())]"
   ]
  },
  {
   "cell_type": "code",
   "execution_count": 64,
   "metadata": {},
   "outputs": [
    {
     "data": {
      "text/plain": [
       "Pipeline(steps=[('normalizar', StandardScaler()),\n",
       "                ('polinomio', PolynomialFeatures(include_bias=False)),\n",
       "                ('modelo', LinearRegression())])"
      ]
     },
     "execution_count": 64,
     "metadata": {},
     "output_type": "execute_result"
    }
   ],
   "source": [
    "pipeline = Pipeline(Entrada)\n",
    "pipeline"
   ]
  },
  {
   "cell_type": "code",
   "execution_count": 65,
   "metadata": {},
   "outputs": [
    {
     "data": {
      "text/plain": [
       "Pipeline(steps=[('normalizar', StandardScaler()),\n",
       "                ('polinomio', PolynomialFeatures(include_bias=False)),\n",
       "                ('modelo', LinearRegression())])"
      ]
     },
     "execution_count": 65,
     "metadata": {},
     "output_type": "execute_result"
    }
   ],
   "source": [
    "pipeline.fit(X_t2c_normal, y_train)"
   ]
  },
  {
   "cell_type": "code",
   "execution_count": 66,
   "metadata": {},
   "outputs": [],
   "source": [
    "X_test_2c = X_test[:,:2]\n",
    "X_test_2c_n = poly_fea.fit_transform(X_test_2c)\n",
    "X_test_2c_n = X_test_2c_n.astype(float)"
   ]
  },
  {
   "cell_type": "markdown",
   "metadata": {},
   "source": [
    "Valores pronosticados para el dataset de pruebas *y_test*"
   ]
  },
  {
   "cell_type": "code",
   "execution_count": 67,
   "metadata": {},
   "outputs": [
    {
     "data": {
      "text/plain": [
       "array([[  36628.],\n",
       "       [1111220.],\n",
       "       [3717972.],\n",
       "       ...,\n",
       "       [ 611220.],\n",
       "       [ 887124.],\n",
       "       [ 373524.]])"
      ]
     },
     "execution_count": 67,
     "metadata": {},
     "output_type": "execute_result"
    }
   ],
   "source": [
    "pf_y_pred = pipeline.predict(X_test_2c_n)\n",
    "pf_y_pred"
   ]
  },
  {
   "cell_type": "code",
   "execution_count": 68,
   "metadata": {},
   "outputs": [
    {
     "name": "stdout",
     "output_type": "stream",
     "text": [
      "R2: 0.94\n"
     ]
    }
   ],
   "source": [
    "print('R2: %.2f' % r2_score(y_test, pf_y_pred))"
   ]
  },
  {
   "cell_type": "markdown",
   "metadata": {},
   "source": [
    "Ecuación de la Regresión Polinómica: \n",
    "$\\widehat{Y}=\\alpha+\\beta_{1}X+\\beta_{2}X^2+\\beta_{3}X^3+\\cdots$"
   ]
  },
  {
   "cell_type": "code",
   "execution_count": 69,
   "metadata": {},
   "outputs": [
    {
     "name": "stdout",
     "output_type": "stream",
     "text": [
      "Evaluación    Resultados\n",
      "------------  -----------------------\n",
      "Intercepto    [-40710780.58061466]\n",
      "Coeficientes  [[359330.92 271862.45]]\n"
     ]
    }
   ],
   "source": [
    "d = [ [\"Intercepto\", lr.intercept_],           \n",
    "     [\"Coeficientes\",  np.round(lr.coef_, 2)] ]         \n",
    "\n",
    "print(tabulate(d, headers=[\"Evaluación\", \"Resultados\"]))"
   ]
  },
  {
   "cell_type": "code",
   "execution_count": 70,
   "metadata": {},
   "outputs": [
    {
     "name": "stdout",
     "output_type": "stream",
     "text": [
      "Evaluación                                  Resultados\n",
      "------------------------------------  ----------------\n",
      "MAE Error medio absoluto              507897\n",
      "MSE Error Cuadrático Medio                 1.76156e+12\n",
      "RMSE Raíz del Error Cuadrático Medio       1.32724e+06\n",
      "Coeficiente de determinación R2            0.942206\n"
     ]
    }
   ],
   "source": [
    "d = [ [\"MAE Error medio absoluto\", np.round( mean_absolute_error(y_test, pf_y_pred), 2 )],\n",
    "     [\"MSE Error Cuadrático Medio\", np.round( mean_squared_error(y_test, pf_y_pred), 2 )],\n",
    "     [\"RMSE Raíz del Error Cuadrático Medio\", np.round( np.sqrt( mean_squared_error(y_test, pf_y_pred) ), 2)],\n",
    "     [\"Coeficiente de determinación R2\",  r2_score(y_test, pf_y_pred)] ]\n",
    "\n",
    "print(tabulate(d, headers=[\"Evaluación\", \"Resultados\"]))"
   ]
  },
  {
   "cell_type": "code",
   "execution_count": 71,
   "metadata": {},
   "outputs": [
    {
     "name": "stdout",
     "output_type": "stream",
     "text": [
      "Validación cruzada (4 pliegues): \n",
      "-------------------------------\n",
      "Regresión Lineal:     Iteración promedio: 0.46\n",
      "Regresión Polinomial: Iteración promedio: 0.82\n"
     ]
    }
   ],
   "source": [
    "R_cruce = cross_val_score(lr, X_test_2c, y_test, cv=4)\n",
    "R_cruce_Poly = cross_val_score(pipeline, X_test_2c, y_test, cv=4)\n",
    "print(\"Validación cruzada (4 pliegues): \")\n",
    "print(\"-------------------------------\")\n",
    "print(\"Regresión Lineal:     Iteración promedio: %.2f\" % R_cruce.mean() )\n",
    "print(\"Regresión Polinomial: Iteración promedio: %.2f\" % R_cruce_Poly.mean() )"
   ]
  }
 ],
 "metadata": {
  "kernelspec": {
   "display_name": "Python 3.9.12 ('base')",
   "language": "python",
   "name": "python3"
  },
  "language_info": {
   "codemirror_mode": {
    "name": "ipython",
    "version": 3
   },
   "file_extension": ".py",
   "mimetype": "text/x-python",
   "name": "python",
   "nbconvert_exporter": "python",
   "pygments_lexer": "ipython3",
   "version": "3.9.12"
  },
  "orig_nbformat": 4,
  "vscode": {
   "interpreter": {
    "hash": "06f4e27a9af80e5ead6f722de283f9f5c5efb596ec46474c8380725429ee4af4"
   }
  }
 },
 "nbformat": 4,
 "nbformat_minor": 2
}
