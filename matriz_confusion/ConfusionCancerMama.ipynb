{
 "cells": [
  {
   "cell_type": "code",
   "execution_count": 28,
   "metadata": {},
   "outputs": [],
   "source": [
    "# Manipulación de datos\n",
    "import numpy as np\n",
    "import pandas as pd"
   ]
  },
  {
   "cell_type": "code",
   "execution_count": 29,
   "metadata": {},
   "outputs": [],
   "source": [
    "# Modelamiento de datos\n",
    "from sklearn.datasets import load_breast_cancer\n",
    "from sklearn.model_selection import train_test_split\n",
    "from sklearn import svm, metrics"
   ]
  },
  {
   "cell_type": "code",
   "execution_count": 30,
   "metadata": {},
   "outputs": [],
   "source": [
    "# Visualización  \n",
    "import matplotlib.pyplot as plt\n",
    "import seaborn as sns\n",
    "import itertools"
   ]
  },
  {
   "cell_type": "markdown",
   "metadata": {},
   "source": [
    "# Dataset\n",
    "\n",
    "Para comparar las diferentes métricas, vamos a usar el dataset de cáncer de mama, la cual es proveida por scikit-learn\n",
    "Este dataset es usado para una clasifiación binaria entre dos tipos de cáncer "
   ]
  },
  {
   "cell_type": "code",
   "execution_count": 31,
   "metadata": {},
   "outputs": [],
   "source": [
    "data = load_breast_cancer()"
   ]
  },
  {
   "cell_type": "code",
   "execution_count": 32,
   "metadata": {},
   "outputs": [
    {
     "name": "stdout",
     "output_type": "stream",
     "text": [
      "['malignant' 'benign']\n"
     ]
    }
   ],
   "source": [
    "print(data.target_names)"
   ]
  },
  {
   "cell_type": "markdown",
   "metadata": {},
   "source": [
    "¿Cúal es la dimensión de los datos? Podemos ver que hay 569 ejemplos y cada uno tiene 30 características.\n",
    "La variable dependiente is binaria (0 y 1 para malignant(maligno) y benign(benigno)).\n",
    "Vamos a considerar *bening* como una clase *positiva*, y *maligno* como una clase *negativa*\n",
    "Nosotros podemos entender esto como:  \n",
    "0 para no_es_beningno (is_not_benign)  \n",
    "1 para es_beningno (is_benign)\n",
    "\n"
   ]
  },
  {
   "cell_type": "code",
   "execution_count": 33,
   "metadata": {},
   "outputs": [
    {
     "name": "stdout",
     "output_type": "stream",
     "text": [
      "(569, 30) (569,)\n"
     ]
    }
   ],
   "source": [
    "X = data.data # Características\n",
    "y = data.target # Etiquetas\n",
    "print(X.shape, y.shape)"
   ]
  },
  {
   "cell_type": "markdown",
   "metadata": {},
   "source": [
    "# División de datos\n",
    "Desde que nosotros no podemos entrenar y probar nuestro modelo con el mismo dataset, siempre es una buena idea separar los datos en tres partes - datos de entrenamiento, datos de pruebas, y datos de validación.\n",
    "No necesitaremos datos de validación aquí. Separamos el dataset en datos de entrenamiento y prueba, con 369 muestras para entrenamiento, y 200 muestras para pruebas."
   ]
  },
  {
   "cell_type": "code",
   "execution_count": 34,
   "metadata": {},
   "outputs": [],
   "source": [
    "X_train, X_test, y_train, y_test = train_test_split(X,y,test_size=200, random_state=42, stratify=y)"
   ]
  },
  {
   "cell_type": "code",
   "execution_count": 35,
   "metadata": {},
   "outputs": [
    {
     "data": {
      "text/plain": [
       "((200, 30), (200,))"
      ]
     },
     "execution_count": 35,
     "metadata": {},
     "output_type": "execute_result"
    }
   ],
   "source": [
    "X_test.shape, y_test.shape"
   ]
  },
  {
   "cell_type": "markdown",
   "metadata": {},
   "source": [
    "# Entrenando y pronosticando datos\n",
    "En este ejemplo, vamos a usar el soporte de scikit's clasificador de máquinas vectoriales para pronosticar si es un cáncer benigno. El clasificador $svc$ es usado de $sklear.svm$. Por su puesto, podemos intentar emplear cualquier otro clasificador y comparar la exactitud."
   ]
  },
  {
   "cell_type": "code",
   "execution_count": 36,
   "metadata": {},
   "outputs": [],
   "source": [
    "# kernel='linear', guasiano o polinómica, SVC es usado para clasifiación, SVR para regresión\n",
    "clasificador = svm.SVC(kernel='linear', probability=True, verbose=True)"
   ]
  },
  {
   "cell_type": "markdown",
   "metadata": {},
   "source": [
    "Seguiremos con el entrenamiento/pruebas para el modelo con nuestro *dataset de entrenamiento*. El entrenamiento es bastante rápido desde que trabajamos con un dataset relativamente pequeño."
   ]
  },
  {
   "cell_type": "code",
   "execution_count": 37,
   "metadata": {},
   "outputs": [
    {
     "name": "stdout",
     "output_type": "stream",
     "text": [
      "[LibSVM]"
     ]
    },
    {
     "data": {
      "text/plain": [
       "SVC(kernel='linear', probability=True, verbose=True)"
      ]
     },
     "execution_count": 37,
     "metadata": {},
     "output_type": "execute_result"
    }
   ],
   "source": [
    "clasificador.fit(X_train,y_train)"
   ]
  },
  {
   "cell_type": "markdown",
   "metadata": {},
   "source": [
    "Ahora vamos a guardar los resultados de las predicciones como clases.  \n",
    "**y_preds** es un **vector 1D** de uno de (0, 1) valores, denotando predicciones como malingno y benigno, respectivamente."
   ]
  },
  {
   "cell_type": "code",
   "execution_count": 38,
   "metadata": {},
   "outputs": [],
   "source": [
    "y_preds = clasificador.predict(X_test)"
   ]
  },
  {
   "cell_type": "code",
   "execution_count": 39,
   "metadata": {},
   "outputs": [
    {
     "data": {
      "text/plain": [
       "(array([1, 0, 1, 1, 1, 0, 1, 0, 1, 1]), array([1, 0, 1, 1, 1, 0, 1, 0, 1, 0]))"
      ]
     },
     "execution_count": 39,
     "metadata": {},
     "output_type": "execute_result"
    }
   ],
   "source": [
    "y_preds[:10], y_test[:10]"
   ]
  },
  {
   "cell_type": "markdown",
   "metadata": {},
   "source": [
    "Métricas de clasificación típicas estan basadas en la matriz de confusión:  \n",
    "- Accuracy (Exactitud)\n",
    "- Precision (Precisión)\n",
    "- Sensitivity/Recall (Sensibilidad/Exhaustividad )\n",
    "- Specificity (Especifidad)\n",
    "- F1 Score (Puntaje de F1) \n",
    "\n",
    "# Matriz de confusión\n",
    "También es conocido como matriz de error, es un modelo de tabla específica que permite visualizar el rendimiento de un algoritmo. Las filas son los **valores reales** mientras que las columnas con los **valores pronosticados**. (Esto podría cambiar de acuerdo al contexto de la definición).  \n",
    "Esto fue implementado por scikit-learn \n",
    "[sklearn.metrics.confusion_matrix](https://scikit-learn.org/stable/modules/generated/sklearn.metrics.confusion_matrix.html?highlight=confusion_matrix#sklearn.metrics.confusion_matrix)  \n",
    " \n",
    "<img src=\"https://raw.githubusercontent.com/jorge1qaz/ml/e4587519985badd72214985e23b81fd568edf3dc/confusion%20matrix.png\" alt=\"Matriz de confusión\" title=\"TMatriz de confusión\" width=800 height=400 />\n"
   ]
  },
  {
   "cell_type": "code",
   "execution_count": 40,
   "metadata": {},
   "outputs": [
    {
     "data": {
      "text/plain": [
       "array([[ 68,   7],\n",
       "       [  2, 123]], dtype=int64)"
      ]
     },
     "execution_count": 40,
     "metadata": {},
     "output_type": "execute_result"
    }
   ],
   "source": [
    "matriz_confusion = metrics.confusion_matrix(y_test, y_preds)\n",
    "matriz_confusion"
   ]
  },
  {
   "cell_type": "code",
   "execution_count": 41,
   "metadata": {},
   "outputs": [
    {
     "data": {
      "text/plain": [
       "array([[3, 1],\n",
       "       [0, 6]], dtype=int64)"
      ]
     },
     "execution_count": 41,
     "metadata": {},
     "output_type": "execute_result"
    }
   ],
   "source": [
    "mc = metrics.confusion_matrix(y_test[:10], y_preds[:10]) # Pequeño test\n",
    "mc"
   ]
  },
  {
   "cell_type": "markdown",
   "metadata": {},
   "source": [
    "Gráfico de la matriz de confusión"
   ]
  },
  {
   "cell_type": "code",
   "execution_count": 42,
   "metadata": {},
   "outputs": [
    {
     "data": {
      "image/png": "[encoded data removed]",
      "text/plain": [
       "<Figure size 432x288 with 1 Axes>"
      ]
     },
     "metadata": {
      "needs_background": "light"
     },
     "output_type": "display_data"
    }
   ],
   "source": [
    "titulo = 'Matriz de confusión'\n",
    "cmap=plt.cm.Blues\n",
    "cm = matriz_confusion\n",
    "\n",
    "# Generar figura\n",
    "fig, ax = plt.subplots()\n",
    "im = ax.imshow(cm, interpolation='nearest', cmap=cmap)\n",
    "ax.set(xticks=np.arange(cm.shape[1]),\n",
    "        yticks=np.arange(cm.shape[0]),\n",
    "        title=titulo,\n",
    "        ylabel='Clase real',\n",
    "        xlabel='Clase predicha')\n",
    "\n",
    "# Rotar y alinear ticks\n",
    "plt.setp(ax.get_xticklabels(), rotation=45, ha=\"right\",\n",
    "            rotation_mode=\"anchor\")\n",
    "\n",
    "# Rellenar gráfica con los valores de la matriz de confusión\n",
    "fmt = 'd'\n",
    "thresh = cm.max() / 2.\n",
    "for i in range(cm.shape[0]):\n",
    "    for j in range(cm.shape[1]):\n",
    "        ax.text(j, i, format(cm[i, j], fmt),\n",
    "                ha=\"center\", va=\"center\",\n",
    "                color=\"white\" if cm[i, j] > thresh else \"black\")\n",
    "fig.tight_layout()\n",
    "plt.show()"
   ]
  },
  {
   "cell_type": "markdown",
   "metadata": {},
   "source": [
    "De la matriz de confusión, nosotros podemos ver el número de muestras pronosticadas correctamente por nuestro clasificador, para dos clases distintamente.  \n",
    "Podemos obtener el número de ***Verdaderos positivos, verdadero negativos, falsos positivos y falsos negativos*** de esta matriz de confusión.\n",
    "Almacenamos estos términos en algunas variables."
   ]
  },
  {
   "cell_type": "code",
   "execution_count": 43,
   "metadata": {},
   "outputs": [
    {
     "data": {
      "text/plain": [
       "array([[ 68,   7],\n",
       "       [  2, 123]], dtype=int64)"
      ]
     },
     "execution_count": 43,
     "metadata": {},
     "output_type": "execute_result"
    }
   ],
   "source": [
    "matriz_confusion"
   ]
  },
  {
   "cell_type": "code",
   "execution_count": 44,
   "metadata": {},
   "outputs": [
    {
     "name": "stdout",
     "output_type": "stream",
     "text": [
      "VN:  68 ; FP:  7 ; FN:  2 ; VP:  123\n"
     ]
    }
   ],
   "source": [
    "# De la matriz de confusión\n",
    "VP = ver_pos = matriz_confusion[1][1]\n",
    "VN = ver_neg = matriz_confusion[0][0]\n",
    "FP = fal_pos = matriz_confusion[0][1]\n",
    "FN = fal_neg = matriz_confusion[1][0]\n",
    "\n",
    "print('VN: ',VN,'; FP: ',FP,'; FN: ',FN,'; VP: ',VP)"
   ]
  },
  {
   "cell_type": "markdown",
   "metadata": {},
   "source": [
    "Ahora necesitamos calcular algunas métricas básicas de estos cuatro valores.\n",
    "Necesitamos un diccionario para almacenar estas métricas. Creamos un diccionario llamado *resultados*."
   ]
  },
  {
   "cell_type": "code",
   "execution_count": 45,
   "metadata": {},
   "outputs": [],
   "source": [
    "resultados = {}"
   ]
  },
  {
   "cell_type": "markdown",
   "metadata": {},
   "source": [
    "# 𝐸𝑥𝑎𝑐𝑡𝑖𝑡𝑢𝑑 (Accuracy)\n",
    "Número de muestras correctamente predichas / total de muestras\n",
    "$EXACT = (𝑉𝑃+𝑉𝑁)/(𝑉𝑃+𝐹𝑃+𝐹𝑁+𝑉𝑁)$"
   ]
  },
  {
   "cell_type": "code",
   "execution_count": 46,
   "metadata": {},
   "outputs": [
    {
     "name": "stdout",
     "output_type": "stream",
     "text": [
      "Exactitud 0.955\n"
     ]
    }
   ],
   "source": [
    "metrica = \"Exactitud\"\n",
    "resultados[metrica] = (VP+VN)/(VP+FP+FN+VN)\n",
    "print(metrica, resultados[metrica])"
   ]
  },
  {
   "cell_type": "markdown",
   "metadata": {},
   "source": [
    "**Tasa de Verdaderos Positivos**  \n",
    "Número de muestras reales y predichas como **Positivos** / número total de muestras reales **Positivos**  \n",
    "También llamado ***Sensibilidad o RECALL***.  \n",
    "$Sensibilidad = 𝑉𝑃/(𝑉𝑃+𝐹𝑁)$ "
   ]
  },
  {
   "cell_type": "code",
   "execution_count": 47,
   "metadata": {},
   "outputs": [
    {
     "name": "stdout",
     "output_type": "stream",
     "text": [
      "Sensibilidad 0.984\n"
     ]
    }
   ],
   "source": [
    "metrica = \"Sensibilidad\"\n",
    "resultados[metrica] = VP/(VP+FN)\n",
    "print(metrica, resultados[metrica])"
   ]
  },
  {
   "cell_type": "markdown",
   "metadata": {},
   "source": [
    "**Tasa de Verdaderos Negativos**\n",
    "Número de predicciones **negativas correctas**  / número total de **Negativos**   \n",
    "También llamado ***Especificidad***.  \n",
    "$Especificidad = VN/(VN+FP)$"
   ]
  },
  {
   "cell_type": "code",
   "execution_count": 48,
   "metadata": {},
   "outputs": [
    {
     "name": "stdout",
     "output_type": "stream",
     "text": [
      "Especificidad 0.9066666666666666\n"
     ]
    }
   ],
   "source": [
    "# Especificidad\n",
    "metrica = \"Especificidad\"\n",
    "resultados[metrica] = VN/(VN+FP)\n",
    "print(metrica, resultados[metrica])"
   ]
  },
  {
   "cell_type": "markdown",
   "metadata": {},
   "source": [
    "# Valor predictivo positivo\n",
    "Número de muestras reales y predichas como **Positivas** / número total de muestras predichas como **Positivas**  \n",
    "También llamado ***Precisión***.  \n",
    "$Precision = VP/(VP+FP)$"
   ]
  },
  {
   "cell_type": "code",
   "execution_count": 49,
   "metadata": {},
   "outputs": [
    {
     "name": "stdout",
     "output_type": "stream",
     "text": [
      "Precision 0.9461538461538461\n"
     ]
    }
   ],
   "source": [
    "# Precisión\n",
    "metrica = \"Precision\"\n",
    "resultados[metrica] = VP/(VP+FP)\n",
    "print(metrica, resultados[metrica])"
   ]
  },
  {
   "cell_type": "markdown",
   "metadata": {},
   "source": [
    "# Puntaje de F1 \n",
    "Media Armónica de Precisión y Recall  \n",
    "$F1 = \\frac{2}{\\frac{1}{Sensibilidad} + \\frac{1}{Precisión}} = 2 * \\frac{Precisión * Sensibilidad}{Precisión + Sensibilidad}$  \n",
    "\n"
   ]
  },
  {
   "cell_type": "code",
   "execution_count": 50,
   "metadata": {},
   "outputs": [
    {
     "name": "stdout",
     "output_type": "stream",
     "text": [
      "F1 0.9647058823529412\n"
     ]
    }
   ],
   "source": [
    "metrica = \"F1\"\n",
    "#resultados[metrica] = 2 * ((resultados[\"Precision\"] * resultados[\"Sensibilidad\"])/(resultados[\"Precision\"] + resultados[\"Sensibilidad\"]))\n",
    "resultados[metrica] = 2 / ((1 / resultados[\"Sensibilidad\"]) + (1 / resultados[\"Precision\"]))\n",
    "print(metrica, resultados[metrica])"
   ]
  },
  {
   "cell_type": "markdown",
   "metadata": {},
   "source": [
    "# Comparando las métricas calculadas\n",
    "Vamos a revisar los valores para comprobar si estos concuerdan con los valores calculados con la ayuda de la librería *scikit-learn*."
   ]
  },
  {
   "cell_type": "code",
   "execution_count": 51,
   "metadata": {},
   "outputs": [
    {
     "name": "stdout",
     "output_type": "stream",
     "text": [
      "Métricas         Manual    Scikit-learn\n",
      "-------------  --------  --------------\n",
      "Exactitud      0.955           0.955\n",
      "Sensibilidad   0.984           0.984\n",
      "Especificidad  0.906667        0.906667\n",
      "Precisión      0.946154        0.946154\n",
      "Puntaje F1     0.964706        0.964706\n"
     ]
    }
   ],
   "source": [
    "from tabulate import tabulate\n",
    "\n",
    "d = [ [\"Exactitud\", resultados[\"Exactitud\"],           metrics.accuracy_score(y_test, y_preds)],\n",
    "     [\"Sensibilidad\", resultados[\"Sensibilidad\"],      metrics.recall_score(y_test, y_preds)],\n",
    "     [\"Especificidad\", resultados[\"Especificidad\"],    metrics.recall_score(y_test, y_preds, pos_label=0)],\n",
    "     [\"Precisión\", resultados[\"Precision\"],            metrics.precision_score(y_test, y_preds)],\n",
    "     [\"Puntaje F1\", resultados[\"F1\"],                  metrics.f1_score(y_test, y_preds)]]\n",
    "\n",
    "print(tabulate(d, headers=[\"Métricas\", \"Manual\", \"Scikit-learn\"]))"
   ]
  },
  {
   "cell_type": "code",
   "execution_count": 53,
   "metadata": {},
   "outputs": [
    {
     "name": "stdout",
     "output_type": "stream",
     "text": [
      "ROC AUC:  0.9453333333333332\n",
      "Coeficiente de correlación de Matthews:  0.9040243764744805\n"
     ]
    }
   ],
   "source": [
    "# Otras métricas\n",
    "print(\"ROC AUC: \", metrics.roc_auc_score(y_test, y_preds))\n",
    "print(\"Coeficiente de correlación de Matthews: \", metrics.matthews_corrcoef(y_test, y_preds))"
   ]
  }
 ],
 "metadata": {
  "kernelspec": {
   "display_name": "Python 3.9.12 ('base')",
   "language": "python",
   "name": "python3"
  },
  "language_info": {
   "codemirror_mode": {
    "name": "ipython",
    "version": 3
   },
   "file_extension": ".py",
   "mimetype": "text/x-python",
   "name": "python",
   "nbconvert_exporter": "python",
   "pygments_lexer": "ipython3",
   "version": "3.9.12"
  },
  "orig_nbformat": 4,
  "vscode": {
   "interpreter": {
    "hash": "06f4e27a9af80e5ead6f722de283f9f5c5efb596ec46474c8380725429ee4af4"
   }
  }
 },
 "nbformat": 4,
 "nbformat_minor": 2
}
